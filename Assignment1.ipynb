{
 "cells": [
  {
   "cell_type": "code",
   "execution_count": 69,
   "metadata": {},
   "outputs": [
    {
     "name": "stdout",
     "output_type": "stream",
     "text": [
      "1 2.4556 asas\n"
     ]
    }
   ],
   "source": [
    "#integers,floating point,string\n",
    "a=1\n",
    "b=2.4556\n",
    "c='asas'\n",
    "print(a,b,c)"
   ]
  },
  {
   "cell_type": "code",
   "execution_count": 70,
   "metadata": {},
   "outputs": [
    {
     "name": "stdout",
     "output_type": "stream",
     "text": [
      "(23, 34, 'hi', 23.88, 'as')\n"
     ]
    }
   ],
   "source": [
    "t1=(23,34,\"hi\",23.88)\n",
    "t2=(\"as\",)\n",
    "print(t1+t2)"
   ]
  },
  {
   "cell_type": "code",
   "execution_count": 71,
   "metadata": {},
   "outputs": [
    {
     "name": "stdout",
     "output_type": "stream",
     "text": [
      "[1, 2, 12, 21, 125, 424, 73467, 135342] [3, 'b', 3, 'd', 1, 'a']\n"
     ]
    }
   ],
   "source": [
    "#lists\n",
    "l0=[12,424,2,73467,135342,21,125,1]\n",
    "l1=[\"a\",1,2,3,\"b\"]\n",
    "l1.append(3)#appends a value at the end of the list\n",
    "l1.copy()#copies all the values of one list to another\n",
    "l1.count(3)#counts the no of times the argument is present\n",
    "l1.extend(\"a\")#wxtend concatenates the first list with another list\n",
    "l1\n",
    "l1.index('a')#returns the index of the arguement if the values is present more than once it returns the first instance if the arguement\n",
    "l1.insert(3,\"d\")#is used to add values to the list in desired position\n",
    "l1.pop()#removes the last element from the list\n",
    "l1.remove(2)#removes the desired element if the values is present more than once it removes the first instance if the arguement\n",
    "l1.reverse()#reverse the list\n",
    "l0.sort()#sorts the list\n",
    "print(l0,l1)\n",
    "l1.clear()#clears all the values present in the list returns empty list"
   ]
  },
  {
   "cell_type": "code",
   "execution_count": 72,
   "metadata": {},
   "outputs": [
    {
     "data": {
      "text/plain": [
       "{'a': 1}"
      ]
     },
     "execution_count": 72,
     "metadata": {},
     "output_type": "execute_result"
    }
   ],
   "source": [
    "#dictionaries\n",
    "d1={'a':1,'b':2}\n",
    "d1.values()#returns the values in the dict\n",
    "d2={'c':3}\n",
    "d1.update(d2)#adds value at the end of the dict\n",
    "d1.keys()#returns the keys in the dict\n",
    "#d1.clear()#clears all the values present in the dict returns empty list\n",
    "d1.fromkeys('b',3)#returns a new dictionary with the given sequence of elements as the keys of the dictionary.\n",
    "d1.copy()#copies all the values of one dict to another\n",
    "d1.items()#returns the items of the dict\n",
    "d1.get('a')#returns values with keys as arguements\n",
    "d1.pop('b')#reomves item with key as arguement\n",
    "d1.popitem()#removes last item\n",
    "d1.setdefault('a')# returns a value if the key is present else none or default value.\n",
    "d1"
   ]
  },
  {
   "cell_type": "code",
   "execution_count": 73,
   "metadata": {},
   "outputs": [
    {
     "data": {
      "text/plain": [
       "{4, 5, 6}"
      ]
     },
     "execution_count": 73,
     "metadata": {},
     "output_type": "execute_result"
    }
   ],
   "source": [
    "#sets\n",
    "s1={1,2,\"1\",'B'}\n",
    "s2={2,4,5,6}\n",
    "s1.add(3)#adds value at the end of the set\n",
    "s1.copy()#copies all the values of one set to another\n",
    "# s1.difference(s2)#returns the not common elements in the sets\n",
    "# s1.difference_update(s2)#removes the common elements from the set before dot with the elements pass as arguements\n",
    "s1.discard(1)#removes element which is the arguement \n",
    "s1.intersection(s2)#returns common element\n",
    "s1.intersection_update(s2)#adds the common elements from the set before dot with the elements pass as arguements\n",
    "s1.isdisjoint(s2)#returns true if common elements exist otherwise vice-versa\n",
    "s1.issubset(s2)#returns true if subset to arguement\n",
    "s1.issuperset(s2)#returns true if superset to arguement\n",
    "s1.pop()#removes last element\n",
    "s2.remove(2)#removes element given as arguement\n",
    "s1.symmetric_difference(s2)#returns the symmetric difference of two sets.\n",
    "s1.symmetric_difference_update(s2)#returns a new set which contains symmetric difference of two sets.\n",
    "s1.union(s2)#returns a new set by adding the arguement set,if the argument is not passed returns a shallow copy of the set.\n",
    "s1.update(s1)#updates the set with arguement as new set\n",
    "s1"
   ]
  },
  {
   "cell_type": "code",
   "execution_count": null,
   "metadata": {},
   "outputs": [],
   "source": []
  },
  {
   "cell_type": "code",
   "execution_count": null,
   "metadata": {},
   "outputs": [],
   "source": []
  }
 ],
 "metadata": {
  "kernelspec": {
   "display_name": "Python 3",
   "language": "python",
   "name": "python3"
  },
  "language_info": {
   "codemirror_mode": {
    "name": "ipython",
    "version": 3
   },
   "file_extension": ".py",
   "mimetype": "text/x-python",
   "name": "python",
   "nbconvert_exporter": "python",
   "pygments_lexer": "ipython3",
   "version": "3.7.6"
  }
 },
 "nbformat": 4,
 "nbformat_minor": 4
}
